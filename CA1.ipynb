{
 "cells": [
  {
   "cell_type": "markdown",
   "metadata": {},
   "source": [
    "**Write a program in Python to find the addition & average of three float numbers.**"
   ]
  },
  {
   "cell_type": "code",
   "execution_count": 18,
   "metadata": {},
   "outputs": [
    {
     "name": "stdout",
     "output_type": "stream",
     "text": [
      "(7.5, 2.5)\n"
     ]
    }
   ],
   "source": [
    "def addAvg(a, b, c):\n",
    "    sum = a + b + c\n",
    "    avg = sum / 3\n",
    "    return sum, avg\n",
    "\n",
    "\n",
    "result = addAvg(1.5, 2.5, 3.5)\n",
    "print(result)"
   ]
  },
  {
   "cell_type": "markdown",
   "metadata": {},
   "source": [
    "**Write a program in Python to find the volume of a sphere with radius  6cm.**"
   ]
  },
  {
   "cell_type": "code",
   "execution_count": 19,
   "metadata": {},
   "outputs": [
    {
     "name": "stdout",
     "output_type": "stream",
     "text": [
      "904.3199999999999\n"
     ]
    }
   ],
   "source": [
    "def volumeOfSphere(radius: float) -> float:\n",
    "    volume = (4 / 3) * 3.14 * radius**3\n",
    "    return volume\n",
    "\n",
    "radius = 6\n",
    "volume = volumeOfSphere(radius)\n",
    "print(volume)"
   ]
  },
  {
   "cell_type": "markdown",
   "metadata": {},
   "source": [
    "**Write a program in Python to find the area of a circle.**"
   ]
  },
  {
   "cell_type": "code",
   "execution_count": 20,
   "metadata": {},
   "outputs": [
    {
     "name": "stdout",
     "output_type": "stream",
     "text": [
      "113.04\n"
     ]
    }
   ],
   "source": [
    "def areaOfCircle(radius: float) -> float:\n",
    "    area = 3.14 * radius**2\n",
    "    return area\n",
    "\n",
    "radius = 6\n",
    "area = areaOfCircle(radius)\n",
    "print(area)"
   ]
  },
  {
   "cell_type": "markdown",
   "metadata": {},
   "source": [
    "**Write a program in Python to compute simple Interest.**"
   ]
  },
  {
   "cell_type": "code",
   "execution_count": 21,
   "metadata": {},
   "outputs": [
    {
     "name": "stdout",
     "output_type": "stream",
     "text": [
      "140.0\n"
     ]
    }
   ],
   "source": [
    "def simpleInterst(principal: float, rate: float, time: float) -> float:\n",
    "    simple_interest = (principal * rate * time) / 100\n",
    "    return simple_interest\n",
    "\n",
    "principal = 1000\n",
    "rate = 5.6\n",
    "time = 2.5\n",
    "\n",
    "SI = simpleInterst(principal, rate, time)\n",
    "print(SI)"
   ]
  },
  {
   "cell_type": "markdown",
   "metadata": {},
   "source": [
    "**Write a program in Python to swap two numbers without using third variable**"
   ]
  },
  {
   "cell_type": "code",
   "execution_count": 22,
   "metadata": {},
   "outputs": [
    {
     "name": "stdout",
     "output_type": "stream",
     "text": [
      "Before swapping:\n",
      "a = 5\n",
      "b = 10\n",
      "After swapping:\n",
      "a = 10\n",
      "b = 5\n"
     ]
    }
   ],
   "source": [
    "def swapNumbers(a, b):\n",
    "    a = a + b\n",
    "    b = a - b\n",
    "    a = a - b\n",
    "    return a, b\n",
    "\n",
    "\n",
    "a = 5\n",
    "b = 10\n",
    "\n",
    "print(\"Before swapping:\")\n",
    "print(\"a =\", a)\n",
    "print(\"b =\", b)\n",
    "\n",
    "a, b = swapNumbers(a, b)\n",
    "\n",
    "print(\"After swapping:\")\n",
    "print(\"a =\", a)\n",
    "print(\"b =\", b)"
   ]
  },
  {
   "cell_type": "markdown",
   "metadata": {},
   "source": [
    "**Write a program in Python to convert any temperature from Celcius to Fahrenheit.**\n"
   ]
  },
  {
   "cell_type": "code",
   "execution_count": 23,
   "metadata": {},
   "outputs": [
    {
     "name": "stdout",
     "output_type": "stream",
     "text": [
      "77.0\n"
     ]
    }
   ],
   "source": [
    "def celsius_to_fahrenheit(celsius):\n",
    "    fahrenheit = (celsius * 9/5) + 32\n",
    "    return fahrenheit\n",
    "\n",
    "celsius = 25\n",
    "fahrenheit = celsius_to_fahrenheit(celsius)\n",
    "print(fahrenheit)"
   ]
  },
  {
   "cell_type": "markdown",
   "metadata": {},
   "source": [
    "**Write a program in Python to convert a given number of days into days, month, year and week.**\n"
   ]
  },
  {
   "cell_type": "code",
   "execution_count": 24,
   "metadata": {},
   "outputs": [
    {
     "name": "stdout",
     "output_type": "stream",
     "text": [
      "Years: 1\n",
      "Months: 4\n",
      "Weeks: 2\n",
      "Days: 1\n"
     ]
    }
   ],
   "source": [
    "def convert_days(num_days):\n",
    "    years, days = divmod(num_days, 365)\n",
    "    months, days = divmod(days, 30)\n",
    "    weeks, days = divmod(days, 7)\n",
    "    return years, months, weeks, days\n",
    "\n",
    "num_days = 500\n",
    "\n",
    "years, months, weeks, days = convert_days(num_days)\n",
    "\n",
    "print(\"Years:\", years)\n",
    "print(\"Months:\", months)\n",
    "print(\"Weeks:\", weeks)\n",
    "print(\"Days:\", days)"
   ]
  },
  {
   "cell_type": "markdown",
   "metadata": {},
   "source": [
    "**Write a Python Program to find the gravitational force acting between two objects.**  \n",
    "$$\n",
    "G=N*(m1*m2)/d^2\n",
    "$$"
   ]
  },
  {
   "cell_type": "code",
   "execution_count": 27,
   "metadata": {},
   "outputs": [
    {
     "name": "stdout",
     "output_type": "stream",
     "text": [
      "2.2247666666666665e-11\n"
     ]
    }
   ],
   "source": [
    "def gravitational_force(mass_1: float, mass_2: float, distance: float) -> float:\n",
    "    G = 6.67430e-11  # gravitational constant\n",
    "    force = G * (mass_1 * mass_2) / (distance**2)\n",
    "    return force\n",
    "\n",
    "\n",
    "mass_1 = 1.5\n",
    "mass_2 = 2.0\n",
    "distance = 3.0\n",
    "\n",
    "force = gravitational_force(mass_1, mass_2, distance)\n",
    "print(force)"
   ]
  },
  {
   "cell_type": "markdown",
   "metadata": {},
   "source": [
    "**Write a program in Python to find given no is Even or Odd.**\n"
   ]
  },
  {
   "cell_type": "code",
   "execution_count": 28,
   "metadata": {},
   "outputs": [
    {
     "name": "stdout",
     "output_type": "stream",
     "text": [
      "Odd\n"
     ]
    }
   ],
   "source": [
    "def isEvenOrOdd(number):\n",
    "    if number % 2 == 0:\n",
    "        return \"Even\"\n",
    "    else:\n",
    "        return \"Odd\"\n",
    "\n",
    "number = 7\n",
    "result = isEvenOrOdd(number)\n",
    "print(result)"
   ]
  },
  {
   "cell_type": "markdown",
   "metadata": {},
   "source": [
    "**Take input from user if it is greater than 15 print two times of difference if it’s less than 15 print four times of difference.**"
   ]
  },
  {
   "cell_type": "code",
   "execution_count": 4,
   "metadata": {},
   "outputs": [
    {
     "name": "stdout",
     "output_type": "stream",
     "text": [
      "2\n"
     ]
    }
   ],
   "source": [
    "def calculate_difference(user_input):\n",
    "    if user_input > 15:\n",
    "        difference = user_input - 15\n",
    "        result = 2 * difference\n",
    "    else:\n",
    "        difference = 15 - user_input\n",
    "        result = 4 * difference\n",
    "    return result\n",
    "\n",
    "user_input = int(input(\"Enter a number: \"))\n",
    "result = calculate_difference(user_input)\n",
    "print(result)"
   ]
  },
  {
   "cell_type": "markdown",
   "metadata": {},
   "source": [
    "**Write a program in Python to find largest among three numbers.**"
   ]
  },
  {
   "cell_type": "code",
   "execution_count": 5,
   "metadata": {},
   "outputs": [
    {
     "name": "stdout",
     "output_type": "stream",
     "text": [
      "3132\n"
     ]
    }
   ],
   "source": [
    "def find_largest_number(a, b, c):\n",
    "    if a >= b and a >= c:\n",
    "        return a\n",
    "    elif b >= a and b >= c:\n",
    "        return b\n",
    "    else:\n",
    "        return c\n",
    "    \n",
    "largest = find_largest_number(1122, 2420, 3132)\n",
    "print(largest)"
   ]
  },
  {
   "cell_type": "markdown",
   "metadata": {},
   "source": [
    "**Write a program in Python to check a triangle is equilateral, scalene or isosceles..**\n"
   ]
  },
  {
   "cell_type": "code",
   "execution_count": 7,
   "metadata": {},
   "outputs": [
    {
     "name": "stdout",
     "output_type": "stream",
     "text": [
      "Isosceles\n"
     ]
    }
   ],
   "source": [
    "def check_triangle_type(side1, side2, side3):\n",
    "    if side1 == side2 == side3:\n",
    "        return \"Equilateral\"\n",
    "    elif side1 != side2 != side3 != side1:\n",
    "        return \"Scalene\"\n",
    "    else:\n",
    "        return \"Isosceles\"\n",
    "\n",
    "triangle_type = check_triangle_type(12, 3, 12)\n",
    "print(triangle_type)"
   ]
  },
  {
   "cell_type": "markdown",
   "metadata": {},
   "source": [
    "**Write a program in Python to check a given year is leap year or not.**"
   ]
  },
  {
   "cell_type": "code",
   "execution_count": 8,
   "metadata": {},
   "outputs": [
    {
     "name": "stdout",
     "output_type": "stream",
     "text": [
      "True\n"
     ]
    }
   ],
   "source": [
    "def isLeapYear(year):\n",
    "    if year % 4 == 0:\n",
    "        if year % 100 == 0:\n",
    "            if year % 400 == 0:\n",
    "                return True\n",
    "            else:\n",
    "                return False\n",
    "        else:\n",
    "            return True\n",
    "    else:\n",
    "        return False\n",
    "\n",
    "year = 2024\n",
    "is_leap = isLeapYear(year)\n",
    "print(is_leap)"
   ]
  },
  {
   "cell_type": "markdown",
   "metadata": {},
   "source": [
    "**Take marks of a student of four different subjects and find the average. Depending on the average, find the Grade**  \n",
    "\n",
    "| Marks  | Grades |\n",
    "| ------ | ------ |\n",
    "| 75-100 | A      |\n",
    "| 60-74  | B      |\n",
    "| 40-59  | C      |\n",
    "| 0-40   | D      |"
   ]
  },
  {
   "cell_type": "code",
   "execution_count": 11,
   "metadata": {},
   "outputs": [
    {
     "name": "stdout",
     "output_type": "stream",
     "text": [
      "A\n"
     ]
    }
   ],
   "source": [
    "def calculate_grade(marks):\n",
    "    average = sum(marks) / len(marks)\n",
    "    if average >= 75:\n",
    "        return 'A'\n",
    "    elif average >= 60:\n",
    "        return 'B'\n",
    "    elif average >= 40:\n",
    "        return 'C'\n",
    "    else:\n",
    "        return 'D'\n",
    "\n",
    "marks = [80, 70, 90, 85]\n",
    "grade = calculate_grade(marks)\n",
    "print(grade)"
   ]
  },
  {
   "cell_type": "markdown",
   "metadata": {},
   "source": [
    "**Write a program in Python to implement a simple calculator.**"
   ]
  },
  {
   "cell_type": "code",
   "execution_count": 12,
   "metadata": {},
   "outputs": [
    {
     "name": "stdout",
     "output_type": "stream",
     "text": [
      "8\n"
     ]
    }
   ],
   "source": [
    "def calculator(operation, num1, num2):\n",
    "    if operation == '+':\n",
    "        return num1 + num2\n",
    "    elif operation == '-':\n",
    "        return num1 - num2\n",
    "    elif operation == '*':\n",
    "        return num1 * num2\n",
    "    elif operation == '/':\n",
    "        return num1 / num2\n",
    "    else:\n",
    "        return \"Invalid operation\"\n",
    "\n",
    "result = calculator('+', 5, 3)\n",
    "print(result)"
   ]
  },
  {
   "cell_type": "markdown",
   "metadata": {},
   "source": [
    "**Write a program in Python to find the roots of Quadratic equation.**"
   ]
  },
  {
   "cell_type": "code",
   "execution_count": 14,
   "metadata": {},
   "outputs": [
    {
     "name": "stdout",
     "output_type": "stream",
     "text": [
      "(-2.0, -3.0)\n"
     ]
    }
   ],
   "source": [
    "def calculateRoots(a, b, c):\n",
    "    d = b**2 - 4*a*c\n",
    "    if d > 0:\n",
    "        root1 = (-b + d**0.5) / (2 * a)\n",
    "        root2 = (-b - d**0.5) / (2 * a)\n",
    "        return root1, root2\n",
    "    elif d == 0:\n",
    "        root = -b / (2 * a)\n",
    "        return root\n",
    "    else:\n",
    "        return \"No real roots\"\n",
    "    \n",
    "a = 1\n",
    "b = 5\n",
    "c = 6\n",
    "\n",
    "roots = calculateRoots(a, b, c)\n",
    "print(roots)"
   ]
  },
  {
   "cell_type": "markdown",
   "metadata": {},
   "source": [
    "**Write a program in Python to print 1 to n.**"
   ]
  },
  {
   "cell_type": "code",
   "execution_count": 16,
   "metadata": {},
   "outputs": [
    {
     "name": "stdout",
     "output_type": "stream",
     "text": [
      "1 2 3 4 5 6 7 8 9 10 "
     ]
    }
   ],
   "source": [
    "def print_numbers(n):\n",
    "    for i in range(1, n+1):\n",
    "        print(i, sep=', ', end=' ')\n",
    "\n",
    "print_numbers(10)"
   ]
  },
  {
   "cell_type": "markdown",
   "metadata": {},
   "source": [
    "**Write a program in Python to print sum of natural number.**"
   ]
  },
  {
   "cell_type": "code",
   "execution_count": 17,
   "metadata": {},
   "outputs": [
    {
     "name": "stdout",
     "output_type": "stream",
     "text": [
      "The sum of natural numbers up to 10 is: 55\n"
     ]
    }
   ],
   "source": [
    "def print_sum_of_natural_numbers(n):\n",
    "    sum = 0\n",
    "    for i in range(1, n+1):\n",
    "        sum += i\n",
    "    print(\"The sum of natural numbers up to\", n, \"is:\", sum)\n",
    "    \n",
    "print_sum_of_natural_numbers(10)"
   ]
  },
  {
   "cell_type": "markdown",
   "metadata": {},
   "source": [
    "**Write a program in Python to print Sum of Digit.**"
   ]
  },
  {
   "cell_type": "code",
   "execution_count": 18,
   "metadata": {},
   "outputs": [
    {
     "name": "stdout",
     "output_type": "stream",
     "text": [
      "The sum of digits of 1234 is: 10\n"
     ]
    }
   ],
   "source": [
    "def print_sum_of_digits(number):\n",
    "    sum_of_digits = 0\n",
    "    for digit in str(number):\n",
    "        sum_of_digits += int(digit)\n",
    "    print(\"The sum of digits of\", number, \"is:\", sum_of_digits)\n",
    "    \n",
    "print_sum_of_digits(1234)"
   ]
  },
  {
   "cell_type": "markdown",
   "metadata": {},
   "source": [
    "**Write a program in Python to print Factors of a Number.**"
   ]
  },
  {
   "cell_type": "code",
   "execution_count": 19,
   "metadata": {},
   "outputs": [
    {
     "name": "stdout",
     "output_type": "stream",
     "text": [
      "Factors of 12 are: [1, 2, 3, 4, 6, 12]\n"
     ]
    }
   ],
   "source": [
    "def print_factors(number):\n",
    "    factors = []\n",
    "    for i in range(1, number + 1):\n",
    "        if number % i == 0:\n",
    "            factors.append(i)\n",
    "    print(\"Factors of\", number, \"are:\", factors)\n",
    "    \n",
    "print_factors(12)"
   ]
  },
  {
   "cell_type": "markdown",
   "metadata": {},
   "source": [
    "**Write a program in Python to print Reverse of a Number.**"
   ]
  },
  {
   "cell_type": "code",
   "execution_count": 21,
   "metadata": {},
   "outputs": [
    {
     "name": "stdout",
     "output_type": "stream",
     "text": [
      "The reverse of 1234 is: 4321\n"
     ]
    }
   ],
   "source": [
    "def print_reverse(number):\n",
    "    temp = number\n",
    "    reverse = 0\n",
    "    while temp > 0:\n",
    "        remainder = temp % 10\n",
    "        reverse = (reverse * 10) + remainder\n",
    "        temp = temp // 10\n",
    "    print(\"The reverse of\", number, \"is:\", reverse)\n",
    "\n",
    "print_reverse(1234)"
   ]
  },
  {
   "cell_type": "markdown",
   "metadata": {},
   "source": [
    "**Write a Python program to find Factorial of a given number.**"
   ]
  },
  {
   "cell_type": "code",
   "execution_count": 22,
   "metadata": {},
   "outputs": [
    {
     "name": "stdout",
     "output_type": "stream",
     "text": [
      "The factorial of 5 is: 120\n"
     ]
    }
   ],
   "source": [
    "def factorial(n):\n",
    "    if n == 0:\n",
    "        return 1\n",
    "    else:\n",
    "        return n * factorial(n-1)\n",
    "    \n",
    "n = 5\n",
    "result = factorial(n)\n",
    "print(\"The factorial of\", n, \"is:\", result)"
   ]
  },
  {
   "cell_type": "markdown",
   "metadata": {},
   "source": [
    "**Write a Python program to check a number is palindrome or not.**"
   ]
  },
  {
   "cell_type": "code",
   "execution_count": 23,
   "metadata": {},
   "outputs": [
    {
     "name": "stdout",
     "output_type": "stream",
     "text": [
      "True\n"
     ]
    }
   ],
   "source": [
    "def isPalindrome(number):\n",
    "    number_str = str(number)\n",
    "    \n",
    "    reversed_str = number_str[::-1]\n",
    "    \n",
    "    if number_str == reversed_str:\n",
    "        return True\n",
    "    else:\n",
    "        return False\n",
    "    \n",
    "number = 12321\n",
    "result = isPalindrome(number)\n",
    "print(result)"
   ]
  },
  {
   "cell_type": "markdown",
   "metadata": {},
   "source": [
    "**Write a Python program to check a number is prime or not.**"
   ]
  },
  {
   "cell_type": "code",
   "execution_count": 24,
   "metadata": {},
   "outputs": [
    {
     "name": "stdout",
     "output_type": "stream",
     "text": [
      "True\n"
     ]
    }
   ],
   "source": [
    "def is_prime(number):\n",
    "    if number <= 1:\n",
    "        return False\n",
    "    for i in range(2, int(number**0.5) + 1):\n",
    "        if number % i == 0:\n",
    "            return False\n",
    "    return True\n",
    "\n",
    "number = 29\n",
    "result = is_prime(number)\n",
    "print(result)"
   ]
  },
  {
   "cell_type": "markdown",
   "metadata": {},
   "source": [
    "**Write a Python program to check a number is Armstrong or not.**"
   ]
  },
  {
   "cell_type": "code",
   "execution_count": 25,
   "metadata": {},
   "outputs": [
    {
     "name": "stdout",
     "output_type": "stream",
     "text": [
      "True\n"
     ]
    }
   ],
   "source": [
    "def isArmstrong(number):\n",
    "    num_str = str(number)\n",
    "    \n",
    "    num_digits = len(num_str)\n",
    "    \n",
    "    armstrong_sum = 0\n",
    "    \n",
    "    for digit in num_str:\n",
    "        digit_int = int(digit)\n",
    "        \n",
    "        armstrong_sum += digit_int ** num_digits\n",
    "    \n",
    "    if armstrong_sum == number:\n",
    "        return True\n",
    "    else:\n",
    "        return False\n",
    "    \n",
    "number = 153\n",
    "result = isArmstrong(number)\n",
    "print(result)"
   ]
  },
  {
   "cell_type": "markdown",
   "metadata": {},
   "source": [
    "**Write a Python program to print Fibonacci series of n term.**\n"
   ]
  },
  {
   "cell_type": "code",
   "execution_count": 26,
   "metadata": {},
   "outputs": [
    {
     "name": "stdout",
     "output_type": "stream",
     "text": [
      "[0, 1, 1, 2, 3]\n"
     ]
    }
   ],
   "source": [
    "def fibonacci(n):\n",
    "    fib_series = [0, 1]\n",
    "\n",
    "    if n <= 0:\n",
    "        return []\n",
    "    elif n == 1:\n",
    "        return [0]\n",
    "    elif n == 2:\n",
    "        return fib_series\n",
    "\n",
    "    for i in range(2, n):\n",
    "        next_term = fib_series[i - 1] + fib_series[i - 2]\n",
    "        fib_series.append(next_term)\n",
    "\n",
    "    return fib_series\n",
    "\n",
    "\n",
    "fibonacci_series = fibonacci(n)\n",
    "print(fibonacci_series)"
   ]
  },
  {
   "cell_type": "markdown",
   "metadata": {},
   "source": [
    "**Write a Python program to implement multiplication table.**"
   ]
  },
  {
   "cell_type": "code",
   "execution_count": 29,
   "metadata": {},
   "outputs": [
    {
     "name": "stdout",
     "output_type": "stream",
     "text": [
      "10 x 1 = 10\n",
      "10 x 2 = 20\n",
      "10 x 3 = 30\n",
      "10 x 4 = 40\n",
      "10 x 5 = 50\n",
      "10 x 6 = 60\n",
      "10 x 7 = 70\n",
      "10 x 8 = 80\n",
      "10 x 9 = 90\n",
      "10 x 10 = 100\n"
     ]
    }
   ],
   "source": [
    "def multiplication_table(n):\n",
    "    for i in range(1, 11):\n",
    "        print(f\"{n} x {i} = {n * i}\", end='\\n')\n",
    "\n",
    "multiplication_table(10)"
   ]
  },
  {
   "cell_type": "markdown",
   "metadata": {},
   "source": [
    "**Write a Python program to take a input from user in a list and print it.**"
   ]
  },
  {
   "cell_type": "code",
   "execution_count": 32,
   "metadata": {},
   "outputs": [
    {
     "name": "stdout",
     "output_type": "stream",
     "text": [
      "['12', '45', '88', '6']\n"
     ]
    }
   ],
   "source": [
    "def take_input_and_print_list():\n",
    "    user_input = input(\"Enter a sequence of comma-separated numbers: \")\n",
    "    num_list = user_input.split(\",\")\n",
    "    print(num_list)\n",
    "    \n",
    "take_input_and_print_list()"
   ]
  },
  {
   "cell_type": "markdown",
   "metadata": {},
   "source": [
    "**Write a Python program to find the average of n numbers using list.**\n"
   ]
  },
  {
   "cell_type": "code",
   "execution_count": 33,
   "metadata": {},
   "outputs": [
    {
     "name": "stdout",
     "output_type": "stream",
     "text": [
      "30.0\n"
     ]
    }
   ],
   "source": [
    "def calculate_average(numbers):\n",
    "    total = sum(numbers)\n",
    "    count = len(numbers)\n",
    "    average = total / count\n",
    "    return average\n",
    "\n",
    "numbers = [10, 20, 30, 40, 50]\n",
    "average = calculate_average(numbers)\n",
    "print(average)"
   ]
  },
  {
   "cell_type": "markdown",
   "metadata": {},
   "source": [
    "**Write a Python program to perform Linear search.**"
   ]
  },
  {
   "cell_type": "code",
   "execution_count": 34,
   "metadata": {},
   "outputs": [
    {
     "name": "stdout",
     "output_type": "stream",
     "text": [
      "2\n"
     ]
    }
   ],
   "source": [
    "def linear_search(lst, target):\n",
    "    for i in range(len(lst)):\n",
    "        if lst[i] == target:\n",
    "            return i\n",
    "    return -1\n",
    "\n",
    "lst = [10, 20, 30, 40, 50]\n",
    "target = 30\n",
    "index = linear_search(lst, target)\n",
    "print(index)"
   ]
  },
  {
   "cell_type": "markdown",
   "metadata": {},
   "source": [
    "**Write a program that accepts sequence of lines as input and prints the lines after making all characters in the sentence capitalized.**\n",
    "\n",
    "| Input | Output |\n",
    "| ----- | ------ |\n",
    "| Hello world | HELLO WORLD |\n",
    "| Practice makes perfect | PRACTICE MAKES PERFECT |"
   ]
  },
  {
   "cell_type": "code",
   "execution_count": 36,
   "metadata": {},
   "outputs": [
    {
     "name": "stdout",
     "output_type": "stream",
     "text": [
      "HELLO WORLD\n",
      "THIS IS MY ASSIGNMENT\n"
     ]
    }
   ],
   "source": [
    "def capitalize_lines():\n",
    "    lines = []\n",
    "    while True:\n",
    "        line = input(\"Enter a sentence (or press Enter to finish): \")\n",
    "        if line == \"\":\n",
    "            break\n",
    "        lines.append(line.upper())\n",
    "    \n",
    "    for line in lines:\n",
    "        print(line, end='\\n')\n",
    "\n",
    "capitalize_lines()"
   ]
  },
  {
   "cell_type": "markdown",
   "metadata": {},
   "source": [
    "**Write a program which accepts a sequence of comma‐separated numbers from console and generate a list and a tuple which contains every number.**\n",
    "\n",
    "Suppose the following input is supplied to the program:\n",
    "$$\n",
    "34,67,55,33,12,98\n",
    "$$\n",
    "Then, the output should be:\n",
    "$$\n",
    "['34', '67', '55', '33', '12', '98']\n",
    "$$\n",
    "$$\n",
    "('34', '67', '55', '33', '12', '98')\n",
    "$$"
   ]
  },
  {
   "cell_type": "code",
   "execution_count": 39,
   "metadata": {},
   "outputs": [
    {
     "name": "stdout",
     "output_type": "stream",
     "text": [
      "['1', ' 2 ', '35', ' 22', ' 453', '22']\n",
      "('1', ' 2 ', '35', ' 22', ' 453', '22')\n"
     ]
    }
   ],
   "source": [
    "def generate_list_and_tuple():\n",
    "    user_input = input(\"Enter a sequence of comma-separated numbers: \")\n",
    "    num_list = user_input.split(\",\")\n",
    "    num_tuple = tuple(num_list)\n",
    "    return num_list, num_tuple\n",
    "\n",
    "num_list, num_tuple = generate_list_and_tuple()\n",
    "print(num_list)\n",
    "print(num_tuple)"
   ]
  },
  {
   "cell_type": "markdown",
   "metadata": {},
   "source": [
    "**Write a program that computes the net amount of a bank account based a transaction log from console input.**\n",
    "\n",
    "The transaction log format is shown as following:\n",
    "\n",
    "$$\n",
    "D  100\n",
    "$$\n",
    "$$\n",
    "W 200\n",
    "$$\n",
    "\n",
    "D means deposit while W means withdrawal.\n",
    "\n",
    "Suppose the following input is supplied to the program:\n",
    "\n",
    "$$\n",
    "D 300\n",
    "$$\n",
    "$$\n",
    "D 300\n",
    "$$\n",
    "$$\n",
    "W 200\n",
    "$$\n",
    "$$\n",
    "D 100\n",
    "$$\n",
    "\n",
    "Then, the output should be:\n",
    "\n",
    "$$\n",
    "500\n",
    "$$"
   ]
  },
  {
   "cell_type": "code",
   "execution_count": 42,
   "metadata": {},
   "outputs": [
    {
     "name": "stdout",
     "output_type": "stream",
     "text": [
      "500\n"
     ]
    }
   ],
   "source": [
    "def compute_net_amount():\n",
    "    net_amount = 0\n",
    "    while True:\n",
    "        transaction = input(\"Enter a transaction (or press Enter to finish): \")\n",
    "        if transaction == \"\":\n",
    "            break\n",
    "        transaction_type, amount = transaction.split()\n",
    "        if transaction_type == \"D\":\n",
    "            net_amount += int(amount)\n",
    "        elif transaction_type == \"W\":\n",
    "            net_amount -= int(amount)\n",
    "    return net_amount\n",
    "\n",
    "net_amount = compute_net_amount()\n",
    "print(net_amount)"
   ]
  }
 ],
 "metadata": {
  "kernelspec": {
   "display_name": "university",
   "language": "python",
   "name": "python3"
  },
  "language_info": {
   "codemirror_mode": {
    "name": "ipython",
    "version": 3
   },
   "file_extension": ".py",
   "mimetype": "text/x-python",
   "name": "python",
   "nbconvert_exporter": "python",
   "pygments_lexer": "ipython3",
   "version": "3.11.9"
  }
 },
 "nbformat": 4,
 "nbformat_minor": 2
}
